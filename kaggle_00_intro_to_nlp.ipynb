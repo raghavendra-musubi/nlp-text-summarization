{
 "metadata": {
  "language_info": {
   "codemirror_mode": {
    "name": "ipython",
    "version": 3
   },
   "file_extension": ".py",
   "mimetype": "text/x-python",
   "name": "python",
   "nbconvert_exporter": "python",
   "pygments_lexer": "ipython3",
   "version": "3.8.5-final"
  },
  "orig_nbformat": 2,
  "kernelspec": {
   "name": "python3",
   "display_name": "Python 3.8.5 64-bit ('nlp-text-summarization': venv)",
   "metadata": {
    "interpreter": {
     "hash": "36fefde4116587a83e33c8e01a9d162dfdc050de2258b4cacf452c4830780043"
    }
   }
  }
 },
 "nbformat": 4,
 "nbformat_minor": 2,
 "cells": [
  {
   "source": [
    "### Import and Load Spacy\n",
    "\n",
    "- first, import spacy and load the `en` language model"
   ],
   "cell_type": "markdown",
   "metadata": {}
  },
  {
   "cell_type": "code",
   "execution_count": 5,
   "metadata": {},
   "outputs": [],
   "source": [
    "import spacy\n",
    "nlp = spacy.load('en')"
   ]
  },
  {
   "source": [
    "### Tokenizing\n",
    "\n",
    "- then, load the base string to process\n",
    "- run the language model on the base string and store output in a variable\n",
    "    - this variable is a document made from the base string\n",
    "    - it is a document made of tokens from the base string "
   ],
   "cell_type": "markdown",
   "metadata": {}
  },
  {
   "cell_type": "code",
   "execution_count": 9,
   "metadata": {},
   "outputs": [
    {
     "output_type": "stream",
     "name": "stdout",
     "text": [
      "<class 'spacy.tokens.doc.Doc'>\n"
     ]
    }
   ],
   "source": [
    "# create input string\n",
    "string_to_process = \"Tea is healthy and calming, don't you think?\"\n",
    "\n",
    "# initilize document from the string \n",
    "doc = nlp(string_to_process)\n",
    "\n",
    "# check type of doc \n",
    "print(type(doc))"
   ]
  },
  {
   "source": [
    "***\n",
    "\n",
    "\n",
    "\n",
    "- the individual tokens in the document can be accessed with a for loop"
   ],
   "cell_type": "markdown",
   "metadata": {}
  },
  {
   "cell_type": "code",
   "execution_count": 8,
   "metadata": {},
   "outputs": [
    {
     "output_type": "stream",
     "name": "stdout",
     "text": [
      "Tea\nis\nhealthy\nand\ncalming\n,\ndo\nn't\nyou\nthink\n?\n"
     ]
    }
   ],
   "source": [
    "for token in doc:\n",
    "    print(token)"
   ]
  },
  {
   "source": [
    "***\n",
    "\n",
    "### Text Pre-processing\n",
    "\n",
    "- there are a few pre-processing techniques to improve how we model with words \n",
    "\n",
    "#### 1/ Lemmatizing\n",
    "\n",
    "- **lemma** of a word is its base form\n",
    "    - i.e. **talk** is the lemma of the word **talking**\n",
    "- when you lemmatize the word walking, you would convert it to walk\n",
    "- with a spaCy token, `token.lemma_` returns the lemma\n",
    "\n",
    "#### 2/ Stop-Word removal \n",
    "\n",
    "- it is common practise to remove stop words \n",
    "- stop words are those that add no meaning/contain no information\n",
    "- with a spaCy token, `token.is_stop` returns a boolean `True` if the token is a stopword (and `False` otherwise)"
   ],
   "cell_type": "markdown",
   "metadata": {}
  },
  {
   "cell_type": "code",
   "execution_count": 24,
   "metadata": {},
   "outputs": [
    {
     "output_type": "stream",
     "name": "stdout",
     "text": [
      "Token \t\t\t Lemma \t\t\t Stopword\n----------------------------------------------------------------------------------------------------\n Tea \t\t\t tea \t\t\t False\n is \t\t\t be \t\t\t True\n healthy \t\t\t healthy \t\t\t False\n and \t\t\t and \t\t\t True\n calming \t\t\t calm \t\t\t False\n , \t\t\t , \t\t\t False\n do \t\t\t do \t\t\t True\n n't \t\t\t not \t\t\t True\n you \t\t\t -PRON- \t\t\t True\n think \t\t\t think \t\t\t False\n ? \t\t\t ? \t\t\t False\n"
     ]
    }
   ],
   "source": [
    "# lets check out the lemma and is_stopword for each token in the document we crated \n",
    "\n",
    "print('Token \\t\\t\\t Lemma \\t\\t\\t Stopword')\n",
    "print('-'*100)\n",
    "for token in doc:\n",
    "    print(f\" {str(token)} \\t\\t\\t {str(token.lemma_)} \\t\\t\\t {str(token.is_stop)}\")"
   ]
  },
  {
   "source": [
    "- language data has a lot of noise mixed in with informative content\n",
    "\n",
    "- In the sentence above, the important words are tea, healthy and calming \n",
    "\n",
    "- Removing stop words might help the predictive model focus on relevant words\n",
    "\n",
    "- However, lemmatizing and dropping stopwords might result in your models performing worse\n",
    "    - So you should treat this preprocessing as part of your hyperparameter optimization process"
   ],
   "cell_type": "markdown",
   "metadata": {}
  },
  {
   "source": [
    "### Pattern Matching\n",
    "\n",
    "- a common NLP task is mathcing tokens or phrases with text chuncks or entire documents \n",
    "\n",
    "- this can be done with regex, but using spacy's matching capabilities is easier to use\n",
    "\n",
    "- to match individual tokens, create a `Matcher` \n",
    "- to match a list of items, use `PhraseMatcher` "
   ],
   "cell_type": "markdown",
   "metadata": {}
  },
  {
   "cell_type": "code",
   "execution_count": 25,
   "metadata": {},
   "outputs": [],
   "source": [
    "## phrase matcher example\n",
    "from spacy.matcher import PhraseMatcher\n",
    "matcher = PhraseMatcher(nlp.vocab, attr=\"LOWER\")"
   ]
  },
  {
   "source": [
    "- The matcher is created using the vocabulary of your model\n",
    "    - Here we're using the small English model you loaded earlier \n",
    "    - Setting attr='LOWER' will match the phrases on lowercased text\n",
    "    - This provides case insensitive matching\n",
    "\n",
    "- Next you create a list of terms to match in the text\n",
    "    - The phrase matcher needs the patterns as document objects\n",
    "    - The easiest way to get these is with a list comprehension using the nlp mod"
   ],
   "cell_type": "markdown",
   "metadata": {}
  },
  {
   "cell_type": "code",
   "execution_count": 26,
   "metadata": {},
   "outputs": [],
   "source": [
    "## set terms and create token document objects \n",
    "terms = ['Galaxy Note','iPhone11','iPhone XS','Google Pixel']\n",
    "patterns = [nlp(text) for text in terms]\n",
    "matcher.add(\"TerminologyList\",patterns)"
   ]
  },
  {
   "source": [
    "- Then you create a document from the base-text to search \n",
    "    - then use the phrase matcher to find where the terms occur in the text"
   ],
   "cell_type": "markdown",
   "metadata": {}
  },
  {
   "cell_type": "code",
   "execution_count": 27,
   "metadata": {},
   "outputs": [],
   "source": [
    "text_doc = nlp(\"Glowing review overall, and some really interesting side-by-side \"\n",
    "               \"photography tests pitting the iPhone 11 Pro against the \"\n",
    "               \"Galaxy Note 10 Plus and last year’s iPhone XS and Google Pixel 3.\")"
   ]
  },
  {
   "cell_type": "code",
   "execution_count": 29,
   "metadata": {},
   "outputs": [
    {
     "output_type": "stream",
     "name": "stdout",
     "text": [
      "[(3766102292120407359, 22, 24), (3766102292120407359, 30, 32), (3766102292120407359, 33, 35)]\n"
     ]
    }
   ],
   "source": [
    "matches = matcher(text_doc)\n",
    "print(matches)"
   ]
  },
  {
   "source": [
    "- The matches here are a tuple of the match id and the positions of the start and end of the phrase."
   ],
   "cell_type": "markdown",
   "metadata": {}
  },
  {
   "cell_type": "code",
   "execution_count": null,
   "metadata": {},
   "outputs": [],
   "source": []
  }
 ]
}